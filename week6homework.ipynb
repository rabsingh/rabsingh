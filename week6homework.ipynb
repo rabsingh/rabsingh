{
 "cells": [
  {
   "cell_type": "code",
   "execution_count": 3,
   "metadata": {},
   "outputs": [
    {
     "data": {
      "text/plain": [
       "' A dashboard was created on Tableau using a dataset downloaded from Kaggle.\\nThe dataset was entitled \"World Happiness Report\".\\n\\nThe dataset was filtered to show the top 10 and bottom 10 happiest countries.\\n\\nThese countries where then shown located on a map of the  world which highlighted \\nthe fact that the bottom 10 countries where largely in Africa whilst the top 10 \\nwere mainly in the Northern Hemishpere.\\nFurther data showing the social support, health and corruption indices of the \\ntop and bottom were shown in tables so comparisons could be drawn.\\n\\nData displayed in tables, with colour coding for best and worst, allowed for the user \\nto make a more numerical analysis whilst the map allowed for a more visual representation \\nand further inferences as to why northern hemisphere countries were happier.  '"
      ]
     },
     "execution_count": 3,
     "metadata": {},
     "output_type": "execute_result"
    }
   ],
   "source": [
    "\"\"\" \n",
    "link to dashboard on Tableau Public \n",
    "https://public.tableau.com/app/profile/rab.singh5016/viz/Book1_16485871770150/Dashboard1?publish=yes\n",
    "\n",
    "A dashboard was created on Tableau using a dataset downloaded from Kaggle.\n",
    "The dataset was entitled \"World Happiness Report\".\n",
    "\n",
    "The dataset was filtered to show the top 10 and bottom 10 happiest countries.\n",
    "\n",
    "These countries where then shown located on a map of the  world which highlighted \n",
    "the fact that the bottom 10 countries where largely in Africa whilst the top 10 \n",
    "were mainly in the Northern Hemishpere with some clustering.\n",
    "Further data showing the social support, health and corruption indices of the \n",
    "top and bottom were shown in tables so comparisons could be drawn.\n",
    "\n",
    "Data displayed in tables, with colour coding for best and worst, allowed for the user \n",
    "to make a more numerical analysis whilst the map allowed for a more visual representation \n",
    "and further inferences as to why northern hemisphere countries were happier.  \"\"\""
   ]
  }
 ],
 "metadata": {
  "interpreter": {
   "hash": "aee8b7b246df8f9039afb4144a1f6fd8d2ca17a180786b69acc140d282b71a49"
  },
  "kernelspec": {
   "display_name": "Python 3.10.2 64-bit",
   "language": "python",
   "name": "python3"
  },
  "language_info": {
   "codemirror_mode": {
    "name": "ipython",
    "version": 3
   },
   "file_extension": ".py",
   "mimetype": "text/x-python",
   "name": "python",
   "nbconvert_exporter": "python",
   "pygments_lexer": "ipython3",
   "version": "3.10.2"
  },
  "orig_nbformat": 4
 },
 "nbformat": 4,
 "nbformat_minor": 2
}
