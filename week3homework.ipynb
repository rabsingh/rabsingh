{
 "cells": [
  {
   "cell_type": "code",
   "execution_count": null,
   "metadata": {},
   "outputs": [
    {
     "name": "stdout",
     "output_type": "stream",
     "text": [
      "2000\n",
      "1800.0\n",
      "1620.0\n",
      "1458.0\n",
      "1312.2\n",
      "1180.98\n",
      "1062.882\n",
      "None\n"
     ]
    }
   ],
   "source": [
    "def motorbike(cost, reduction):\n",
    "\n",
    "    x = cost \n",
    "    y = reduction\n",
    "\n",
    "    while x >= 1000 :\n",
    "        print(x)\n",
    "        x = x * y \n",
    "   \n",
    "\n",
    "def motorproc():\n",
    "    print (motorbike(2000, .90))\n",
    "\n",
    "motorproc()\n"
   ]
  },
  {
   "cell_type": "code",
   "execution_count": 41,
   "metadata": {},
   "outputs": [
    {
     "name": "stdout",
     "output_type": "stream",
     "text": [
      "0\n",
      "None\n"
     ]
    }
   ],
   "source": [
    "def mathfun(x, y, z):\n",
    "\n",
    "    a = x\n",
    "    b = y\n",
    "    c = z \n",
    "\n",
    "    if c == \"+\":\n",
    "         print(a + b)\n",
    "    elif c == \"-\":\n",
    "         print(a - b)\n",
    "    elif c == \"*\":\n",
    "         print(a * b)\n",
    "    else :\n",
    "         print(\"Sorry i cant do that\")\n",
    "   \n",
    "\n",
    "def mathproc():\n",
    "    a = int(input(\"what is your first number ?\"))\n",
    "    b = int(input(\"and your second number ? \"))\n",
    "    c = str(input(\"and the operator ?\"))\n",
    "    print (mathfun(a, b, c))\n",
    "\n",
    "mathproc()"
   ]
  }
 ],
 "metadata": {
  "interpreter": {
   "hash": "aee8b7b246df8f9039afb4144a1f6fd8d2ca17a180786b69acc140d282b71a49"
  },
  "kernelspec": {
   "display_name": "Python 3.10.2 64-bit",
   "language": "python",
   "name": "python3"
  },
  "language_info": {
   "codemirror_mode": {
    "name": "ipython",
    "version": 3
   },
   "file_extension": ".py",
   "mimetype": "text/x-python",
   "name": "python",
   "nbconvert_exporter": "python",
   "pygments_lexer": "ipython3",
   "version": "3.10.2"
  },
  "orig_nbformat": 4
 },
 "nbformat": 4,
 "nbformat_minor": 2
}
