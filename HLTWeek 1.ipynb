{
 "cells": [
  {
   "cell_type": "code",
   "execution_count": 49,
   "metadata": {},
   "outputs": [
    {
     "name": "stdout",
     "output_type": "stream",
     "text": [
      "Wrong !!\n"
     ]
    }
   ],
   "source": [
    "import random\n",
    "rabnum = random.randint(1, 10)\n",
    "\n",
    "user_input = int(input(\"What number am i thinking of from 1 to 10?\"))\n",
    "\n",
    "if user_input == rabnum :\n",
    "    print(\"CORRECT\")\n",
    "else: \n",
    "    print(\"Wrong !!\") \n"
   ]
  },
  {
   "cell_type": "code",
   "execution_count": 54,
   "metadata": {},
   "outputs": [
    {
     "name": "stdout",
     "output_type": "stream",
     "text": [
      "Joke 3\n"
     ]
    }
   ],
   "source": [
    "user_input = int(input(\"Input a number between 1 and 3 and i'll tell you a joke?\"))\n",
    "\n",
    "if user_input == 1 :\n",
    "    print(\"Joke 1\")\n",
    "elif user_input == 2  : \n",
    "    print(\"Joke 2 !!\")\n",
    "else: \n",
    "    print(\"Joke 3\") "
   ]
  },
  {
   "cell_type": "code",
   "execution_count": 55,
   "metadata": {},
   "outputs": [
    {
     "name": "stdout",
     "output_type": "stream",
     "text": [
      "So you want your starter to be   bread followed a main of   pizza finished off with a dessert of  cake  washed down with  coke\n"
     ]
    }
   ],
   "source": [
    "meal1 = str(input(\"What would you like for starter\"))\n",
    "meal2 = str(input(\"What would you like for main\"))\n",
    "meal3 = str(input(\"What would you like for dessert\"))\n",
    "drink = str(input(\"What would you like to drink\"))\n",
    "\n",
    "print(\"So you want your starter to be  \", meal1, \"followed a main of  \", meal2, \"finished off with a dessert of \", meal3, \" washed down with \", drink)"
   ]
  },
  {
   "cell_type": "code",
   "execution_count": 80,
   "metadata": {},
   "outputs": [
    {
     "name": "stdout",
     "output_type": "stream",
     "text": [
      "2000\n",
      "1800.0\n",
      "1620.0\n",
      "1458.0\n",
      "1312.2\n",
      "1180.98\n",
      "1062.882\n"
     ]
    }
   ],
   "source": [
    "x = 2000\n",
    "\n",
    "while x >= 1000 :\n",
    "    print(x)\n",
    "    x = x * 0.90\n",
    "\n",
    "\n",
    "\n"
   ]
  },
  {
   "cell_type": "code",
   "execution_count": 76,
   "metadata": {},
   "outputs": [
    {
     "name": "stdout",
     "output_type": "stream",
     "text": [
      "8\n"
     ]
    }
   ],
   "source": [
    "a = int(input(\"Pick a number ?\"))\n",
    "\n",
    "b = int(input(\"Pick another number ?\"))\n",
    "\n",
    "c = str(input(\"what do you want to do woth the 2 numbers ... + ... _ ... /\"))\n",
    "\n",
    "if c == \"+\" :\n",
    "    print(a + b) \n",
    "elif c == \"-\" :\n",
    "    print(a - b)\n",
    "elif c == \"/\" :\n",
    "    print(a/b)\n",
    "elif c == \"*\" :\n",
    "    print(a * b)\n",
    "elif c == \"**\" :\n",
    "    print( a ** b)"
   ]
  }
 ],
 "metadata": {
  "interpreter": {
   "hash": "aee8b7b246df8f9039afb4144a1f6fd8d2ca17a180786b69acc140d282b71a49"
  },
  "kernelspec": {
   "display_name": "Python 3.10.2 64-bit",
   "language": "python",
   "name": "python3"
  },
  "language_info": {
   "codemirror_mode": {
    "name": "ipython",
    "version": 3
   },
   "file_extension": ".py",
   "mimetype": "text/x-python",
   "name": "python",
   "nbconvert_exporter": "python",
   "pygments_lexer": "ipython3",
   "version": "3.10.2"
  },
  "orig_nbformat": 4
 },
 "nbformat": 4,
 "nbformat_minor": 2
}
