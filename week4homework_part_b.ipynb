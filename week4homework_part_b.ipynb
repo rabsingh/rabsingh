{
 "cells": [
  {
   "cell_type": "code",
   "execution_count": 19,
   "metadata": {},
   "outputs": [],
   "source": [
    "my_file = open(\"b.txt\",'w')\n",
    "a = int(input(\"first number\"))\n",
    "b = int(input(\"second number\"))\n",
    "c = int(input(\"third number\"))\n",
    "d = int(input(\"fourth number\"))\n",
    "\n",
    "my_file.write(str(a))\n",
    "my_file.write(str(b))\n",
    "my_file.write(str(c))\n",
    "my_file.write(str(d))\n",
    "\n",
    "my_file.close()"
   ]
  },
  {
   "cell_type": "code",
   "execution_count": 16,
   "metadata": {},
   "outputs": [
    {
     "name": "stdout",
     "output_type": "stream",
     "text": [
      "Grade D\n"
     ]
    }
   ],
   "source": [
    "def mark_grade(a):\n",
    "    if a>='75' :\n",
    "        print('Grade A') \n",
    "    elif a<'75' and a>='50':\n",
    "        print('Grade B')\n",
    "    elif a<'50' and a>='25':\n",
    "        print('Grade C')\n",
    "    else :\n",
    "        a>'0' and a<'25'\n",
    "        print('Grade D')\n",
    "\n",
    "def mark():\n",
    "    a=input(\"What is your mark?\")\n",
    "    mark_grade(a)\n",
    "\n",
    "mark()"
   ]
  },
  {
   "cell_type": "code",
   "execution_count": 91,
   "metadata": {},
   "outputs": [
    {
     "name": "stdout",
     "output_type": "stream",
     "text": [
      "Requirement already satisfied: numpy in /Library/Frameworks/Python.framework/Versions/3.10/lib/python3.10/site-packages (1.22.3)\n",
      "\u001b[33mWARNING: You are using pip version 21.2.4; however, version 22.0.4 is available.\n",
      "You should consider upgrading via the '/usr/local/bin/python3 -m pip install --upgrade pip' command.\u001b[0m\n",
      "Note: you may need to restart the kernel to use updated packages.\n"
     ]
    }
   ],
   "source": [
    "pip install numpy "
   ]
  },
  {
   "cell_type": "code",
   "execution_count": 104,
   "metadata": {},
   "outputs": [
    {
     "name": "stdout",
     "output_type": "stream",
     "text": [
      "[0 1 2 3 4 5 6 7 8 9]\n"
     ]
    }
   ],
   "source": [
    "#question 1\n",
    "\n",
    "import numpy as np \n",
    "\n",
    "array1=np.arange(0,10,1)\n",
    "\n",
    "print(array1)"
   ]
  },
  {
   "cell_type": "code",
   "execution_count": 105,
   "metadata": {},
   "outputs": [
    {
     "name": "stdout",
     "output_type": "stream",
     "text": [
      "[0 1 2 3 4 5 6 7 8]\n",
      "[[0 1 2]\n",
      " [3 4 5]\n",
      " [6 7 8]]\n"
     ]
    },
    {
     "ename": "ValueError",
     "evalue": "The truth value of an array with more than one element is ambiguous. Use a.any() or a.all()",
     "output_type": "error",
     "traceback": [
      "\u001b[0;31m---------------------------------------------------------------------------\u001b[0m",
      "\u001b[0;31mValueError\u001b[0m                                Traceback (most recent call last)",
      "\u001b[1;32m/Users/rabindersingh/Desktop/HW/sandy4.ipynb Cell 5'\u001b[0m in \u001b[0;36m<module>\u001b[0;34m\u001b[0m\n\u001b[1;32m     <a href='vscode-notebook-cell:/Users/rabindersingh/Desktop/HW/sandy4.ipynb#ch0000012?line=10'>11</a>\u001b[0m \u001b[39mprint\u001b[39m(array3x3)\n\u001b[1;32m     <a href='vscode-notebook-cell:/Users/rabindersingh/Desktop/HW/sandy4.ipynb#ch0000012?line=12'>13</a>\u001b[0m \u001b[39mfor\u001b[39;00m x \u001b[39min\u001b[39;00m array3x3 :\n\u001b[0;32m---> <a href='vscode-notebook-cell:/Users/rabindersingh/Desktop/HW/sandy4.ipynb#ch0000012?line=13'>14</a>\u001b[0m     \u001b[39mif\u001b[39;00m x \u001b[39m>\u001b[39m\u001b[39m10\u001b[39m :\n\u001b[1;32m     <a href='vscode-notebook-cell:/Users/rabindersingh/Desktop/HW/sandy4.ipynb#ch0000012?line=14'>15</a>\u001b[0m         \u001b[39mprint\u001b[39m(\u001b[39mbool\u001b[39m)\n",
      "\u001b[0;31mValueError\u001b[0m: The truth value of an array with more than one element is ambiguous. Use a.any() or a.all()"
     ]
    }
   ],
   "source": [
    "#question 2\n",
    "\n",
    "import numpy as np \n",
    "\n",
    "array2=np.arange(0,9,1)\n",
    "\n",
    "print(array2)\n",
    "\n",
    "array3x3=array2.reshape(3,3)\n",
    "\n",
    "print(array3x3)\n",
    "\n",
    "for x in array3x3 :\n",
    "    if x >10 :\n",
    "        print(bool)\n"
   ]
  },
  {
   "cell_type": "code",
   "execution_count": 111,
   "metadata": {},
   "outputs": [
    {
     "name": "stdout",
     "output_type": "stream",
     "text": [
      "[0 1 2 3 4 5 6 7 8 9]\n",
      "1\n",
      "3\n",
      "5\n",
      "7\n",
      "9\n"
     ]
    }
   ],
   "source": [
    "#question 3 \n",
    "\n",
    "import numpy as np \n",
    "\n",
    "array2=np.arange(0,10,1)\n",
    "\n",
    "print(array2)\n",
    "\n",
    "for x in array2 :\n",
    "    if (x %2) == 0:\n",
    "        pass\n",
    "    else :\n",
    "        print(x)\n",
    "\n"
   ]
  },
  {
   "cell_type": "code",
   "execution_count": 115,
   "metadata": {},
   "outputs": [
    {
     "name": "stdout",
     "output_type": "stream",
     "text": [
      "[0 1 2 3 4 5 6 7 8 9]\n",
      "0\n",
      "i need code\n",
      "2\n",
      "i need code\n",
      "4\n",
      "i need code\n",
      "6\n",
      "i need code\n",
      "8\n",
      "i need code\n"
     ]
    }
   ],
   "source": [
    "#question 4 \n",
    "\n",
    "import numpy as np \n",
    "\n",
    "array2=np.arange(0,10,1)\n",
    "\n",
    "print(array2)\n",
    "\n",
    "for x in array2 :\n",
    "    if (x %2) == 0:\n",
    "        pass\n",
    "    else :\n",
    "        print('i need code')\n",
    "    # replace item with -1 "
   ]
  },
  {
   "cell_type": "code",
   "execution_count": 123,
   "metadata": {},
   "outputs": [
    {
     "name": "stdout",
     "output_type": "stream",
     "text": [
      "[[ 1  2  3  4  5]\n",
      " [ 6  7  8  9 10]]\n"
     ]
    }
   ],
   "source": [
    "#question 5\n",
    "\n",
    "import numpy as np \n",
    "\n",
    "array1d=[1,2,3,4,5,6,7,8,9,10]\n",
    "\n",
    "array2d=np.reshape(array1d,(2,5))\n",
    "\n",
    "print(array2d)"
   ]
  },
  {
   "cell_type": "code",
   "execution_count": 46,
   "metadata": {},
   "outputs": [
    {
     "name": "stdout",
     "output_type": "stream",
     "text": [
      "[[1 2]\n",
      " [3 4]]\n",
      "[[6 7]\n",
      " [8 9]]\n",
      "[[22 25]\n",
      " [50 57]]\n",
      "154\n"
     ]
    }
   ],
   "source": [
    "#question 6\n",
    "\n",
    "import numpy as np \n",
    "\n",
    "a=np.arange(1,5).reshape(2,2)\n",
    "print(a)\n",
    "b=np.arange(6,10).reshape(2,2)\n",
    "print(b)\n",
    "\n",
    "c=np.dot(a, b)\n",
    "print(c)\n",
    "\n",
    "sum=np.sum(c)\n",
    "print(sum)\n",
    "\n"
   ]
  }
 ],
 "metadata": {
  "interpreter": {
   "hash": "aee8b7b246df8f9039afb4144a1f6fd8d2ca17a180786b69acc140d282b71a49"
  },
  "kernelspec": {
   "display_name": "Python 3.10.2 64-bit",
   "language": "python",
   "name": "python3"
  },
  "language_info": {
   "codemirror_mode": {
    "name": "ipython",
    "version": 3
   },
   "file_extension": ".py",
   "mimetype": "text/x-python",
   "name": "python",
   "nbconvert_exporter": "python",
   "pygments_lexer": "ipython3",
   "version": "3.10.2"
  },
  "orig_nbformat": 4
 },
 "nbformat": 4,
 "nbformat_minor": 2
}
