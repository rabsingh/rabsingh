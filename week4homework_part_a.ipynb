{
 "cells": [
  {
   "cell_type": "code",
   "execution_count": 1,
   "metadata": {},
   "outputs": [],
   "source": [
    "my_file = open(\"b.txt\",'w')\n",
    "a = int(input(\"first number\"))\n",
    "b = int(input(\"second number\"))\n",
    "c = int(input(\"third number\"))\n",
    "d = int(input(\"fourth number\"))\n",
    "\n",
    "my_file.write(str(a))\n",
    "my_file.write(str(b))\n",
    "my_file.write(str(c))\n",
    "my_file.write(str(d))\n",
    "\n",
    "my_file.close()"
   ]
  },
  {
   "cell_type": "code",
   "execution_count": 16,
   "metadata": {},
   "outputs": [
    {
     "name": "stdout",
     "output_type": "stream",
     "text": [
      "Grade D\n"
     ]
    }
   ],
   "source": [
    "def mark_grade(a):\n",
    "    if a>='75' :\n",
    "        print('Grade A') \n",
    "    elif a<'75' and a>='50':\n",
    "        print('Grade B')\n",
    "    elif a<'50' and a>='25':\n",
    "        print('Grade C')\n",
    "    else :\n",
    "        a>'0' and a<'25'\n",
    "        print('Grade D')\n",
    "\n",
    "def mark():\n",
    "    a=input(\"What is your mark?\")\n",
    "    mark_grade(a)\n",
    "\n",
    "mark()"
   ]
  },
  {
   "cell_type": "code",
   "execution_count": 2,
   "metadata": {},
   "outputs": [
    {
     "name": "stdout",
     "output_type": "stream",
     "text": [
      "[1 2 3 4 5]\n"
     ]
    }
   ],
   "source": [
    "import numpy as np\n",
    "\n",
    "array = np.array([1,2,3,4,5,])\n",
    "\n",
    "print(array)"
   ]
  }
 ],
 "metadata": {
  "interpreter": {
   "hash": "aee8b7b246df8f9039afb4144a1f6fd8d2ca17a180786b69acc140d282b71a49"
  },
  "kernelspec": {
   "display_name": "Python 3.10.2 64-bit",
   "language": "python",
   "name": "python3"
  },
  "language_info": {
   "codemirror_mode": {
    "name": "ipython",
    "version": 3
   },
   "file_extension": ".py",
   "mimetype": "text/x-python",
   "name": "python",
   "nbconvert_exporter": "python",
   "pygments_lexer": "ipython3",
   "version": "3.10.2"
  },
  "orig_nbformat": 4
 },
 "nbformat": 4,
 "nbformat_minor": 2
}
